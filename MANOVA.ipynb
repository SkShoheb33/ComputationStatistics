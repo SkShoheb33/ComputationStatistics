{
  "nbformat": 4,
  "nbformat_minor": 0,
  "metadata": {
    "colab": {
      "provenance": [],
      "collapsed_sections": [],
      "include_colab_link": true
    },
    "kernelspec": {
      "name": "python3",
      "display_name": "Python 3"
    },
    "language_info": {
      "name": "python"
    }
  },
  "cells": [
    {
      "cell_type": "markdown",
      "metadata": {
        "id": "view-in-github",
        "colab_type": "text"
      },
      "source": [
        "<a href=\"https://colab.research.google.com/github/SkShoheb33/ComputationStatistics/blob/main/MANOVA.ipynb\" target=\"_parent\"><img src=\"https://colab.research.google.com/assets/colab-badge.svg\" alt=\"Open In Colab\"/></a>"
      ]
    },
    {
      "cell_type": "code",
      "execution_count": null,
      "metadata": {
        "colab": {
          "base_uri": "https://localhost:8080/"
        },
        "id": "9UO92nwTFwiR",
        "outputId": "97c5ad42-b72e-4b3a-f22a-22a9ba1b0564"
      },
      "outputs": [
        {
          "name": "stdout",
          "output_type": "stream",
          "text": [
            "Enter number of treatments : 3\n",
            "Enter the number of groups in treatment 1 : 3\n",
            "Enter treatment 1 data : \n",
            "9 3\n",
            "6 2\n",
            "9 7\n",
            "Enter the number of groups in treatment 2 : 2\n",
            "Enter treatment 2 data : \n",
            "0 4\n",
            "2 0\n",
            "Enter the number of groups in treatment 3 : 3\n",
            "Enter treatment 3 data : \n",
            "3 8\n",
            "1 9\n",
            "2 7\n"
          ]
        }
      ],
      "source": [
        "data = []\n",
        "k = int(input(\"Enter number of treatments : \"))\n",
        "for i in range(k):\n",
        "  num = int(input(\"Enter the number of groups in treatment {} : \".format(i+1)))\n",
        "  #taking the data in y1,y2\n",
        "  print(\"Enter treatment {} data : \".format(i+1))\n",
        "  treatment = []\n",
        "  for j in range(num):\n",
        "    treatment.append(list(map(int,input().split())))\n",
        "  data.append(treatment)"
      ]
    },
    {
      "cell_type": "code",
      "source": [
        "for i in data:\n",
        "  print(i)"
      ],
      "metadata": {
        "colab": {
          "base_uri": "https://localhost:8080/"
        },
        "id": "Dtxm_PbjMioX",
        "outputId": "3cb94b46-a5bc-41f8-f511-3e645311ea2e"
      },
      "execution_count": null,
      "outputs": [
        {
          "output_type": "stream",
          "name": "stdout",
          "text": [
            "[[9, 3], [6, 2], [9, 7]]\n",
            "[[0, 4], [2, 0]]\n",
            "[[3, 8], [1, 9], [2, 7]]\n"
          ]
        }
      ]
    },
    {
      "cell_type": "code",
      "source": [
        "\n",
        "(s,s3,s4,n) = (0,0,0,0)\n",
        "mean_yi = []\n",
        "for treatment in data:\n",
        "  s1 = 0\n",
        "  s2 = 0\n",
        "  for group in treatment:\n",
        "    s1 += group[0]\n",
        "    s2 += group[1]\n",
        "    n+=1\n",
        "  s3 += s1\n",
        "  s4 += s2\n",
        "  mean_yi.append([s1/len(treatment),s2/len(treatment)])\n",
        "mean_yii= [s3/n,s4/n]"
      ],
      "metadata": {
        "id": "5IP54UtqI536"
      },
      "execution_count": null,
      "outputs": []
    },
    {
      "cell_type": "code",
      "source": [
        "#sse,ssr,sst\n",
        "sse_y1,sst_y1,sst_y2,sse_y2,sse_y12,sst_y12 = 0,0,0,0,0,0\n",
        "for i in range(k):\n",
        "  for j in data[i]:\n",
        "    sse_y1 += (j[0]-mean_yi[i][0])**2\n",
        "    sst_y1 += (j[0]-mean_yii[0])**2\n",
        "    sse_y2 += (j[1]-mean_yi[i][1])**2\n",
        "    sst_y2 += (j[1]-mean_yii[1])**2\n",
        "    sse_y12 += (j[0]*j[1]-mean_yi[i][0]*mean_yi[i][1])\n",
        "    sst_y12 += (j[0]*j[1]-mean_yii[0]*mean_yii[1])\n",
        "ssr_y1 = sst_y1 - sse_y1\n",
        "ssr_y2 = sst_y2 - sse_y2\n",
        "ssr_y12 = sst_y12 - sse_y12"
      ],
      "metadata": {
        "id": "KGH8tE9KLk9T"
      },
      "execution_count": null,
      "outputs": []
    },
    {
      "cell_type": "code",
      "source": [
        "#table \n",
        "import numpy as np\n",
        "import math\n",
        "B = np.array([[ssr_y1,ssr_y12],[ssr_y12,ssr_y2]])\n",
        "W = np.array([[sse_y1,sse_y12],[sse_y12,sse_y2]])\n",
        "T = np.array([[sst_y1,sst_y12],[sst_y12,sst_y2]])"
      ],
      "metadata": {
        "id": "GrBfHCs7MOcQ"
      },
      "execution_count": null,
      "outputs": []
    },
    {
      "cell_type": "code",
      "source": [
        "degreeOfFreedom_regression = k - 1\n",
        "degreeOfFreedom_error = n - k\n",
        "degreeOfFreedom_total = n - 1"
      ],
      "metadata": {
        "id": "vhZFLg5FTNB6"
      },
      "execution_count": null,
      "outputs": []
    },
    {
      "cell_type": "code",
      "source": [
        "det_W = np.linalg.det(W)\n",
        "det_T = np.linalg.det(T)\n",
        "lamda = abs(det_W)/abs(det_T)\n",
        "lamda"
      ],
      "metadata": {
        "colab": {
          "base_uri": "https://localhost:8080/"
        },
        "id": "QK_1S10lTt1t",
        "outputId": "56508d57-88dd-4a51-f950-b2e45a8c0dca"
      },
      "execution_count": null,
      "outputs": [
        {
          "output_type": "execute_result",
          "data": {
            "text/plain": [
              "0.0384553499597747"
            ]
          },
          "metadata": {},
          "execution_count": 114
        }
      ]
    },
    {
      "cell_type": "code",
      "source": [
        "f_cal = ((n-k-1)/(k-1))*((1-math.sqrt(lamda))/math.sqrt(lamda))\n",
        "f_cal"
      ],
      "metadata": {
        "colab": {
          "base_uri": "https://localhost:8080/"
        },
        "id": "dW0xyTKkU99u",
        "outputId": "66d86985-209e-4bc5-8b77-efcc9940c2e9"
      },
      "execution_count": null,
      "outputs": [
        {
          "output_type": "execute_result",
          "data": {
            "text/plain": [
              "8.198859563778381"
            ]
          },
          "metadata": {},
          "execution_count": 115
        }
      ]
    },
    {
      "cell_type": "code",
      "source": [
        "import scipy.stats as sci\n",
        "f_table = sci.f.ppf(0.95,2*(k-1),2*(n-k-1))\n",
        "f_table"
      ],
      "metadata": {
        "colab": {
          "base_uri": "https://localhost:8080/"
        },
        "id": "O0AzlKcpTGPE",
        "outputId": "ab4410f0-0a1b-4914-a93b-4a7f4c51a668"
      },
      "execution_count": null,
      "outputs": [
        {
          "output_type": "execute_result",
          "data": {
            "text/plain": [
              "3.837853354555897"
            ]
          },
          "metadata": {},
          "execution_count": 116
        }
      ]
    },
    {
      "cell_type": "code",
      "source": [
        "table = {\n",
        "    'Source of variation ':['Regression','Error','Total'],\n",
        "    'Sum of squares ':[B,W,T],\n",
        "    'degree of freedom ':[degreeOfFreedom_regression,degreeOfFreedom_error,degreeOfFreedom_total],\n",
        "    'Wills value':['',lamda,''],\n",
        "    'f-statistic':['',f_cal,'']\n",
        "}"
      ],
      "metadata": {
        "id": "jRDsxg1ygRaA"
      },
      "execution_count": null,
      "outputs": []
    },
    {
      "cell_type": "code",
      "source": [
        "import pandas as pd\n",
        "pd.DataFrame(table)"
      ],
      "metadata": {
        "colab": {
          "base_uri": "https://localhost:8080/",
          "height": 143
        },
        "id": "EzqTYR5VhZBI",
        "outputId": "9d6bdbfe-d792-4612-dd22-e1b5a847355e"
      },
      "execution_count": null,
      "outputs": [
        {
          "output_type": "execute_result",
          "data": {
            "text/plain": [
              "  Source of variation                  Sum of squares   degree of freedom   \\\n",
              "0           Regression  [[78.0, -12.0], [-12.0, 48.0]]                   2   \n",
              "1                Error      [[10.0, 1.0], [1.0, 24.0]]                   5   \n",
              "2                Total  [[88.0, -11.0], [-11.0, 72.0]]                   7   \n",
              "\n",
              "  Wills value f-statistic  \n",
              "0                          \n",
              "1    0.038455     8.19886  \n",
              "2                          "
            ],
            "text/html": [
              "\n",
              "  <div id=\"df-c0a6d247-f18c-46d6-a7a8-b3a17ab6745a\">\n",
              "    <div class=\"colab-df-container\">\n",
              "      <div>\n",
              "<style scoped>\n",
              "    .dataframe tbody tr th:only-of-type {\n",
              "        vertical-align: middle;\n",
              "    }\n",
              "\n",
              "    .dataframe tbody tr th {\n",
              "        vertical-align: top;\n",
              "    }\n",
              "\n",
              "    .dataframe thead th {\n",
              "        text-align: right;\n",
              "    }\n",
              "</style>\n",
              "<table border=\"1\" class=\"dataframe\">\n",
              "  <thead>\n",
              "    <tr style=\"text-align: right;\">\n",
              "      <th></th>\n",
              "      <th>Source of variation</th>\n",
              "      <th>Sum of squares</th>\n",
              "      <th>degree of freedom</th>\n",
              "      <th>Wills value</th>\n",
              "      <th>f-statistic</th>\n",
              "    </tr>\n",
              "  </thead>\n",
              "  <tbody>\n",
              "    <tr>\n",
              "      <th>0</th>\n",
              "      <td>Regression</td>\n",
              "      <td>[[78.0, -12.0], [-12.0, 48.0]]</td>\n",
              "      <td>2</td>\n",
              "      <td></td>\n",
              "      <td></td>\n",
              "    </tr>\n",
              "    <tr>\n",
              "      <th>1</th>\n",
              "      <td>Error</td>\n",
              "      <td>[[10.0, 1.0], [1.0, 24.0]]</td>\n",
              "      <td>5</td>\n",
              "      <td>0.038455</td>\n",
              "      <td>8.19886</td>\n",
              "    </tr>\n",
              "    <tr>\n",
              "      <th>2</th>\n",
              "      <td>Total</td>\n",
              "      <td>[[88.0, -11.0], [-11.0, 72.0]]</td>\n",
              "      <td>7</td>\n",
              "      <td></td>\n",
              "      <td></td>\n",
              "    </tr>\n",
              "  </tbody>\n",
              "</table>\n",
              "</div>\n",
              "      <button class=\"colab-df-convert\" onclick=\"convertToInteractive('df-c0a6d247-f18c-46d6-a7a8-b3a17ab6745a')\"\n",
              "              title=\"Convert this dataframe to an interactive table.\"\n",
              "              style=\"display:none;\">\n",
              "        \n",
              "  <svg xmlns=\"http://www.w3.org/2000/svg\" height=\"24px\"viewBox=\"0 0 24 24\"\n",
              "       width=\"24px\">\n",
              "    <path d=\"M0 0h24v24H0V0z\" fill=\"none\"/>\n",
              "    <path d=\"M18.56 5.44l.94 2.06.94-2.06 2.06-.94-2.06-.94-.94-2.06-.94 2.06-2.06.94zm-11 1L8.5 8.5l.94-2.06 2.06-.94-2.06-.94L8.5 2.5l-.94 2.06-2.06.94zm10 10l.94 2.06.94-2.06 2.06-.94-2.06-.94-.94-2.06-.94 2.06-2.06.94z\"/><path d=\"M17.41 7.96l-1.37-1.37c-.4-.4-.92-.59-1.43-.59-.52 0-1.04.2-1.43.59L10.3 9.45l-7.72 7.72c-.78.78-.78 2.05 0 2.83L4 21.41c.39.39.9.59 1.41.59.51 0 1.02-.2 1.41-.59l7.78-7.78 2.81-2.81c.8-.78.8-2.07 0-2.86zM5.41 20L4 18.59l7.72-7.72 1.47 1.35L5.41 20z\"/>\n",
              "  </svg>\n",
              "      </button>\n",
              "      \n",
              "  <style>\n",
              "    .colab-df-container {\n",
              "      display:flex;\n",
              "      flex-wrap:wrap;\n",
              "      gap: 12px;\n",
              "    }\n",
              "\n",
              "    .colab-df-convert {\n",
              "      background-color: #E8F0FE;\n",
              "      border: none;\n",
              "      border-radius: 50%;\n",
              "      cursor: pointer;\n",
              "      display: none;\n",
              "      fill: #1967D2;\n",
              "      height: 32px;\n",
              "      padding: 0 0 0 0;\n",
              "      width: 32px;\n",
              "    }\n",
              "\n",
              "    .colab-df-convert:hover {\n",
              "      background-color: #E2EBFA;\n",
              "      box-shadow: 0px 1px 2px rgba(60, 64, 67, 0.3), 0px 1px 3px 1px rgba(60, 64, 67, 0.15);\n",
              "      fill: #174EA6;\n",
              "    }\n",
              "\n",
              "    [theme=dark] .colab-df-convert {\n",
              "      background-color: #3B4455;\n",
              "      fill: #D2E3FC;\n",
              "    }\n",
              "\n",
              "    [theme=dark] .colab-df-convert:hover {\n",
              "      background-color: #434B5C;\n",
              "      box-shadow: 0px 1px 3px 1px rgba(0, 0, 0, 0.15);\n",
              "      filter: drop-shadow(0px 1px 2px rgba(0, 0, 0, 0.3));\n",
              "      fill: #FFFFFF;\n",
              "    }\n",
              "  </style>\n",
              "\n",
              "      <script>\n",
              "        const buttonEl =\n",
              "          document.querySelector('#df-c0a6d247-f18c-46d6-a7a8-b3a17ab6745a button.colab-df-convert');\n",
              "        buttonEl.style.display =\n",
              "          google.colab.kernel.accessAllowed ? 'block' : 'none';\n",
              "\n",
              "        async function convertToInteractive(key) {\n",
              "          const element = document.querySelector('#df-c0a6d247-f18c-46d6-a7a8-b3a17ab6745a');\n",
              "          const dataTable =\n",
              "            await google.colab.kernel.invokeFunction('convertToInteractive',\n",
              "                                                     [key], {});\n",
              "          if (!dataTable) return;\n",
              "\n",
              "          const docLinkHtml = 'Like what you see? Visit the ' +\n",
              "            '<a target=\"_blank\" href=https://colab.research.google.com/notebooks/data_table.ipynb>data table notebook</a>'\n",
              "            + ' to learn more about interactive tables.';\n",
              "          element.innerHTML = '';\n",
              "          dataTable['output_type'] = 'display_data';\n",
              "          await google.colab.output.renderOutput(dataTable, element);\n",
              "          const docLink = document.createElement('div');\n",
              "          docLink.innerHTML = docLinkHtml;\n",
              "          element.appendChild(docLink);\n",
              "        }\n",
              "      </script>\n",
              "    </div>\n",
              "  </div>\n",
              "  "
            ]
          },
          "metadata": {},
          "execution_count": 120
        }
      ]
    },
    {
      "cell_type": "code",
      "source": [
        "#inference\n",
        "if f_cal>=f_table:\n",
        "  print(\"Reject H0\")\n",
        "else:\n",
        "  print(\"Accept_H0\")"
      ],
      "metadata": {
        "colab": {
          "base_uri": "https://localhost:8080/"
        },
        "id": "sEfTlWWrWbvA",
        "outputId": "5de28db0-9536-410e-cadb-1b061c253d12"
      },
      "execution_count": null,
      "outputs": [
        {
          "output_type": "stream",
          "name": "stdout",
          "text": [
            "Reject H0\n"
          ]
        }
      ]
    }
  ]
}