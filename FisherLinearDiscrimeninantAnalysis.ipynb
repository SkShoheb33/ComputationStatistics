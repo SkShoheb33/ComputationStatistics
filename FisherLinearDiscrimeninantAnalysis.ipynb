{
  "nbformat": 4,
  "nbformat_minor": 0,
  "metadata": {
    "colab": {
      "provenance": [],
      "collapsed_sections": [],
      "authorship_tag": "ABX9TyPsOItDIMiO9d2Cb25S375G",
      "include_colab_link": true
    },
    "kernelspec": {
      "name": "python3",
      "display_name": "Python 3"
    },
    "language_info": {
      "name": "python"
    }
  },
  "cells": [
    {
      "cell_type": "markdown",
      "metadata": {
        "id": "view-in-github",
        "colab_type": "text"
      },
      "source": [
        "<a href=\"https://colab.research.google.com/github/SkShoheb33/ComputationStatistics/blob/main/FisherLinearDiscrimeninantAnalysis.ipynb\" target=\"_parent\"><img src=\"https://colab.research.google.com/assets/colab-badge.svg\" alt=\"Open In Colab\"/></a>"
      ]
    },
    {
      "cell_type": "code",
      "execution_count": 117,
      "metadata": {
        "colab": {
          "base_uri": "https://localhost:8080/"
        },
        "id": "THrUBu4rGYbD",
        "outputId": "24ac3e11-632f-402c-fd3a-29064454c9d2"
      },
      "outputs": [
        {
          "name": "stdout",
          "output_type": "stream",
          "text": [
            "Enter number of atributes : 3\n",
            "Enter attribute 1 data : \n",
            "1 2 3 4 5 4 5  5 3 5 6\n",
            "Enter attribute 2 data : \n",
            "2 3 3 5 5 2 0 2 2 3 3\n",
            "Enter the status of y : \n",
            "1 1 1 1 1 2 2 2 2 2 2\n",
            "Enter data to predict : \n",
            "5.1 3.2\n"
          ]
        }
      ],
      "source": [
        "n = int(input(\"Enter number of atributes : \"))\n",
        "x = []\n",
        "for i in range(n-1):\n",
        "  print(\"Enter attribute {} data : \".format(i+1))\n",
        "  x.append(list(map(float,input().split())))\n",
        "print(\"Enter the status of y : \")\n",
        "y = list(map(int,input().split()))\n",
        "print(\"Enter data to predict : \")\n",
        "xk = np.array(list(map(float,input().split())))"
      ]
    },
    {
      "cell_type": "code",
      "source": [
        "import numpy as np\n",
        "X = np.array(x)\n",
        "X = np.transpose(X)\n",
        "Y = np.array(y)\n",
        "Y = np.transpose(Y)\n"
      ],
      "metadata": {
        "id": "hNBybm_VIeAI"
      },
      "execution_count": 118,
      "outputs": []
    },
    {
      "cell_type": "code",
      "source": [
        "mean = []\n",
        "count = 0\n",
        "for i in range(n-1):\n",
        "  s = 0\n",
        "  count = 0\n",
        "  for j in X:\n",
        "    s += j[i]\n",
        "    count += 1\n",
        "  mean.append(np.round(s/count,2))"
      ],
      "metadata": {
        "id": "KhPLzqO_JPI3"
      },
      "execution_count": 119,
      "outputs": []
    },
    {
      "cell_type": "code",
      "source": [
        "cat = []\n",
        "for i in y:\n",
        "  if i not in cat:\n",
        "    cat.append(i)\n",
        "x1 = []\n",
        "x2 = []\n",
        "for i in range(n-1):\n",
        "  row1 = []\n",
        "  row2 = []\n",
        "  for j in range(count):\n",
        "    if Y[j] == cat[0]:\n",
        "      row1.append(X[j][i])\n",
        "    else:\n",
        "      row2.append(X[j][i])\n",
        "  x1.append(row1)\n",
        "  x2.append(row2)"
      ],
      "metadata": {
        "id": "4wh-nTKPJ_8X"
      },
      "execution_count": 120,
      "outputs": []
    },
    {
      "cell_type": "code",
      "source": [
        "mean1 = []\n",
        "mean2 = []\n",
        "for i in x1:\n",
        "  c = 0\n",
        "  s = 0\n",
        "  for j in i:\n",
        "    s += j\n",
        "    c += 1\n",
        "  mean1.append(np.round(s/c,2))\n",
        "for i in x2:\n",
        "  c = 0\n",
        "  s = 0\n",
        "  for j in i:\n",
        "    s += j\n",
        "    c += 1\n",
        "  mean2.append(np.round(s/c,2))\n",
        "mean1 = np.array(mean1)\n",
        "mean2 = np.array(mean2)\n",
        "x_mean = X- mean\n",
        "c = np.dot(np.transpose(x_mean),x_mean)/count\n",
        "c_inv = np.linalg.inv(c)"
      ],
      "metadata": {
        "id": "BlWd_JGQVAPb"
      },
      "execution_count": 121,
      "outputs": []
    },
    {
      "cell_type": "code",
      "source": [
        "xk\n",
        "f = []\n",
        "mu = [mean1,mean2]\n",
        "for i in range(n-1):\n",
        "  f.append(np.dot(np.dot(mu[i],c_inv),np.transpose(xk)) - 0.5*np.dot(np.dot(mu[i],c_inv),np.transpose(mu[i]))+np.log(y.count(cat[i])/count))\n",
        "f = np.round(f,2)\n",
        "if f[0]>f[1]:\n",
        "  print(\"The entries belongs to first catogory\")\n",
        "else:\n",
        "  print(\"The entries belongs to second catogory\")"
      ],
      "metadata": {
        "colab": {
          "base_uri": "https://localhost:8080/"
        },
        "id": "Ef53ycoZZXH9",
        "outputId": "a89d1139-4c14-4c7e-9074-eb77bc16b005"
      },
      "execution_count": 123,
      "outputs": [
        {
          "output_type": "stream",
          "name": "stdout",
          "text": [
            "The entries belongs to second catogory\n"
          ]
        }
      ]
    }
  ]
}