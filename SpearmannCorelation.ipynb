{
  "nbformat": 4,
  "nbformat_minor": 0,
  "metadata": {
    "colab": {
      "name": "Untitled11.ipynb",
      "provenance": [],
      "collapsed_sections": [],
      "authorship_tag": "ABX9TyO5lDwHA8fHtvOJ106Q34uB",
      "include_colab_link": true
    },
    "kernelspec": {
      "name": "python3",
      "display_name": "Python 3"
    },
    "language_info": {
      "name": "python"
    }
  },
  "cells": [
    {
      "cell_type": "markdown",
      "metadata": {
        "id": "view-in-github",
        "colab_type": "text"
      },
      "source": [
        "<a href=\"https://colab.research.google.com/github/SkShoheb33/ComputationStatistics/blob/main/SpearmannCorelation.ipynb\" target=\"_parent\"><img src=\"https://colab.research.google.com/assets/colab-badge.svg\" alt=\"Open In Colab\"/></a>"
      ]
    },
    {
      "cell_type": "code",
      "execution_count": 89,
      "metadata": {
        "colab": {
          "base_uri": "https://localhost:8080/"
        },
        "id": "q4UQ0-Ev0gKx",
        "outputId": "a35d5501-b746-49f7-a13e-536ea33eb28a"
      },
      "outputs": [
        {
          "name": "stdout",
          "output_type": "stream",
          "text": [
            "81 78 73 73 69 68 62 58\n",
            "10 12 18 18 18 22 20 24\n"
          ]
        }
      ],
      "source": [
        "import numpy as np\n",
        "import pandas as pd\n",
        "x = np.array(list(map(int,input().split())))\n",
        "y = np.array(list(map(int,input().split())))"
      ]
    },
    {
      "cell_type": "code",
      "source": [
        "\n",
        "rank_x = []\n",
        "rank_y = []\n",
        "x_copy = np.copy(x)\n",
        "y_copy = np.copy(y)\n",
        "x_copy = np.sort(x_copy)[::-1]\n",
        "y_copy = np.sort(y_copy)[::-1]\n",
        "\n",
        "for i in x:\n",
        "    result = (np.where(x_copy==i))\n",
        "    rank_x.append((result[0][0]+1))\n",
        "for i in y:\n",
        "    result = (np.where(y_copy==i))\n",
        "    rank_y.append((result[0][0]+1))\n",
        "new_rank_x = []\n",
        "new_rank_y = []\n",
        "cf = {}\n",
        "for i in rank_x:\n",
        "  c = rank_x.count(i)\n",
        "  if c>1:\n",
        "    if i not in cf:\n",
        "      cf[i] = (c*(c**2-1)/12)\n",
        "    new_rank_x.append(sum(range(i,i+c))/c)\n",
        "  else:\n",
        "    new_rank_x.append(i)\n",
        "for i in rank_y:\n",
        "  c = rank_y.count(i)\n",
        "  if c>1:\n",
        "    if i not in cf:\n",
        "      cf[i] = (c*(c**2-1)/12)\n",
        "    new_rank_y.append(sum(range(i,i+c))/c)\n",
        "  else:\n",
        "    new_rank_y.append(i)\n",
        "print(new_rank_x,new_rank_y)"
      ],
      "metadata": {
        "colab": {
          "base_uri": "https://localhost:8080/"
        },
        "id": "ZsgNpQZe0n_-",
        "outputId": "cc9c6922-418d-4e74-fd0a-61fa88e7b1c8"
      },
      "execution_count": 90,
      "outputs": [
        {
          "output_type": "stream",
          "name": "stdout",
          "text": [
            "[1, 2, 3.5, 3.5, 5, 6, 7, 8] [8, 7, 5.0, 5.0, 5.0, 2, 3, 1]\n"
          ]
        }
      ]
    },
    {
      "cell_type": "markdown",
      "source": [
        ""
      ],
      "metadata": {
        "id": "6EOV5AiF0q4W"
      }
    },
    {
      "cell_type": "code",
      "source": [
        "print(new_rank_x,new_rank_y)\n",
        "di = np.subtract(new_rank_x,new_rank_y)\n",
        "di2 = di**2\n",
        "di2_sum = sum(di2)\n",
        "n = len(x)\n",
        "row  = 1-(6*di2_sum)/(n*(n**2-1))\n",
        "di2_sum = di2_sum+sum(cf.values())\n",
        "row  = 1-(6*di2_sum)/(n*(n**2-1))\n",
        "print(row)"
      ],
      "metadata": {
        "colab": {
          "base_uri": "https://localhost:8080/"
        },
        "id": "KTJusYjL0rGG",
        "outputId": "43d5c4ba-cdbc-4477-a60a-3ed54259700a"
      },
      "execution_count": 91,
      "outputs": [
        {
          "output_type": "stream",
          "name": "stdout",
          "text": [
            "[1, 2, 3.5, 3.5, 5, 6, 7, 8] [8, 7, 5.0, 5.0, 5.0, 2, 3, 1]\n",
            "-0.9285714285714286\n"
          ]
        }
      ]
    },
    {
      "cell_type": "code",
      "source": [
        ""
      ],
      "metadata": {
        "id": "MP-9SGofEkVm"
      },
      "execution_count": null,
      "outputs": []
    }
  ]
}