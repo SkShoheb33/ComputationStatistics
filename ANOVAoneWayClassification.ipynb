{
  "nbformat": 4,
  "nbformat_minor": 0,
  "metadata": {
    "colab": {
      "name": "Copy of Untitled12.ipynb",
      "provenance": [],
      "collapsed_sections": [],
      "authorship_tag": "ABX9TyPYlIucxz2E0f9oHyizkdvn",
      "include_colab_link": true
    },
    "kernelspec": {
      "name": "python3",
      "display_name": "Python 3"
    },
    "language_info": {
      "name": "python"
    }
  },
  "cells": [
    {
      "cell_type": "markdown",
      "metadata": {
        "id": "view-in-github",
        "colab_type": "text"
      },
      "source": [
        "<a href=\"https://colab.research.google.com/github/SkShoheb33/ComputationStatistics/blob/main/ANOVAoneWayClassification.ipynb\" target=\"_parent\"><img src=\"https://colab.research.google.com/assets/colab-badge.svg\" alt=\"Open In Colab\"/></a>"
      ]
    },
    {
      "cell_type": "code",
      "execution_count": null,
      "metadata": {
        "colab": {
          "base_uri": "https://localhost:8080/"
        },
        "id": "LmyPfGv6FQk3",
        "outputId": "38b8d2d0-de35-42ad-ce92-1945bf076368"
      },
      "outputs": [
        {
          "name": "stdout",
          "output_type": "stream",
          "text": [
            "Enter number of samples : 4\n",
            "6 4 5\n",
            "13 10 13 12\n",
            "7 9 11\n",
            "3 6 1 4 1\n",
            "[[6, 4, 5], [13, 10, 13, 12], [7, 9, 11], [3, 6, 1, 4, 1]]\n",
            "Enter level of significance : 5\n"
          ]
        }
      ],
      "source": [
        "n = int(input(\"Enter number of samples : \"))\n",
        "samples = []\n",
        "for i in range(n):\n",
        "  sample = list(map(int,input().split()))\n",
        "  samples.append(sample)\n",
        "los = int(input(\"Enter level of significance : \"))"
      ]
    },
    {
      "cell_type": "code",
      "source": [
        "rss = 0\n",
        "for i in samples:\n",
        "  for j in i:\n",
        "    rss+= j**2\n",
        "rss\n",
        "Ti = []\n",
        "Ti2_ni = []\n",
        "N = 0\n",
        "for i in samples:\n",
        "  Ti.append(sum(i))\n",
        "  Ti2_ni.append((sum(i)**2)/len(i))\n",
        "  N += len(i)\n",
        "sum_Ti2_ni = sum(Ti2_ni)\n",
        "G= sum(Ti)\n",
        "cf = G**2/N\n",
        "sst = rss-cf\n",
        "sstr = sum_Ti2_ni-cf\n",
        "sse =  sst-sstr\n",
        "treatment  = sstr/(n-1)\n",
        "error = sse/(N-n)\n",
        "f = treatment/error\n",
        "print(\"RSS : \"+str(rss)+\"\\n\"+\"CF : \"+str(cf)+\"\\n\"+\"SST : \"+str(sst)+\"\\n\"+\"SStr : \"+str(sstr)+\"\\n\"+\"SSe : \"+str(sse))"
      ],
      "metadata": {
        "colab": {
          "base_uri": "https://localhost:8080/"
        },
        "id": "ZiHQt_fCHpxK",
        "outputId": "dacc2174-6305-4dc4-b40f-c5376b0954e5"
      },
      "execution_count": null,
      "outputs": [
        {
          "output_type": "stream",
          "name": "stdout",
          "text": [
            "RSS : 973\n",
            "CF : 735.0\n",
            "SST : 238.0\n",
            "SStr : 204.0\n",
            "SSe : 34.0\n"
          ]
        }
      ]
    },
    {
      "cell_type": "code",
      "source": [
        ""
      ],
      "metadata": {
        "id": "Ut8u8wL6LHuE"
      },
      "execution_count": null,
      "outputs": []
    },
    {
      "cell_type": "code",
      "source": [
        "import scipy.stats as sci"
      ],
      "metadata": {
        "id": "hznvE5KMIbU3"
      },
      "execution_count": null,
      "outputs": []
    },
    {
      "cell_type": "code",
      "source": [
        "if f<1:\n",
        "  f = 1/f\n",
        "  f_table = sci.f.ppf(1-los/100,N-n,n-1)\n",
        "else:\n",
        "  f_table = sci.f.ppf(1-los/100,n-1,N-n)"
      ],
      "metadata": {
        "id": "U3kGd64rJ5gW"
      },
      "execution_count": null,
      "outputs": []
    },
    {
      "cell_type": "code",
      "source": [
        "#inferance\n",
        "if f>= f_table:\n",
        "  print(\"Reject\")\n",
        "else:\n",
        "  print(\"Accept\")"
      ],
      "metadata": {
        "colab": {
          "base_uri": "https://localhost:8080/"
        },
        "id": "9ILz4BvmKbeM",
        "outputId": "2d5d9649-9c71-43f2-f78b-668c0cd7e950"
      },
      "execution_count": null,
      "outputs": [
        {
          "output_type": "stream",
          "name": "stdout",
          "text": [
            "Reject\n"
          ]
        }
      ]
    }
  ]
}