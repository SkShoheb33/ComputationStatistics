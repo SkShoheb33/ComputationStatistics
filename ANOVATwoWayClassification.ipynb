{
  "nbformat": 4,
  "nbformat_minor": 0,
  "metadata": {
    "colab": {
      "name": "Untitled18.ipynb",
      "provenance": [],
      "authorship_tag": "ABX9TyP13fCdIgPfr9D3h//3xp+T",
      "include_colab_link": true
    },
    "kernelspec": {
      "name": "python3",
      "display_name": "Python 3"
    },
    "language_info": {
      "name": "python"
    }
  },
  "cells": [
    {
      "cell_type": "markdown",
      "metadata": {
        "id": "view-in-github",
        "colab_type": "text"
      },
      "source": [
        "<a href=\"https://colab.research.google.com/github/SkShoheb33/ComputationStatistics/blob/main/ANOVATwoWayClassification.ipynb\" target=\"_parent\"><img src=\"https://colab.research.google.com/assets/colab-badge.svg\" alt=\"Open In Colab\"/></a>"
      ]
    },
    {
      "cell_type": "code",
      "source": [
        "import numpy as np\n",
        "import scipy.stats as sci"
      ],
      "metadata": {
        "id": "wKLSE7WCty4p"
      },
      "execution_count": 13,
      "outputs": []
    },
    {
      "cell_type": "code",
      "execution_count": 14,
      "metadata": {
        "colab": {
          "base_uri": "https://localhost:8080/"
        },
        "id": "YNTKg8XXrF8Y",
        "outputId": "1a95ce5f-b95f-4a55-9e2d-392e9880dcf8"
      },
      "outputs": [
        {
          "name": "stdout",
          "output_type": "stream",
          "text": [
            "Enter number of treatments : 4\n",
            "Enter number of blocks : 5\n",
            "Enter level of significance : 1\n"
          ]
        }
      ],
      "source": [
        "numberOfTreatments= int(input(\"Enter number of treatments : \"))\n",
        "numberOfBlocks = int(input(\"Enter number of blocks : \"))\n",
        "los = int(input(\"Enter level of significance : \"))"
      ]
    },
    {
      "cell_type": "code",
      "source": [
        "print(\"Enter treatments : \")\n",
        "matrix = []\n",
        "for i in range(numberOfTreatments):\n",
        "  print(\"Enter treatment {} data : \".format(i+1))\n",
        "  matrix.append(list(map(int,input().split())))"
      ],
      "metadata": {
        "colab": {
          "base_uri": "https://localhost:8080/"
        },
        "id": "5w7-F_J7rhSA",
        "outputId": "364cd666-933c-45bf-ec98-f93cddd875ca"
      },
      "execution_count": 15,
      "outputs": [
        {
          "name": "stdout",
          "output_type": "stream",
          "text": [
            "Enter treatments : \n",
            "Enter treatment 1 data : \n",
            "6 14 10 8 11\n",
            "Enter treatment 2 data : \n",
            "14 9 12 10 14\n",
            "Enter treatment 3 data : \n",
            "10 12 7 15 11\n",
            "Enter treatment 4 data : \n",
            "9 12 8 10 11\n"
          ]
        }
      ]
    },
    {
      "cell_type": "code",
      "source": [
        "Ti = []\n",
        "Ti2 = []\n",
        "Bi = []\n",
        "Bi2 = []\n",
        "for i in range(numberOfTreatments):\n",
        "  Ti.append(sum(matrix[i]))\n",
        "  Ti2.append(sum(matrix[i])**2)\n",
        "for i in range(numberOfBlocks):\n",
        "  total = 0\n",
        "  for j in matrix:\n",
        "    total +=j[i]\n",
        "  Bi.append(total)\n",
        "  Bi2.append(total**2)\n",
        "G = sum(Ti)\n",
        "sigmaTi2 = sum(Ti2)\n",
        "sigmaBi2 = sum(Bi2)\n"
      ],
      "metadata": {
        "id": "tMR0cipXvrak"
      },
      "execution_count": 16,
      "outputs": []
    },
    {
      "cell_type": "code",
      "source": [
        "print(Ti,Ti2,Bi,Bi2,G,sigmaTi2,sigmaBi2)"
      ],
      "metadata": {
        "colab": {
          "base_uri": "https://localhost:8080/"
        },
        "id": "lMQwGT8by3He",
        "outputId": "205a8f13-0d39-4d78-ff85-9f3a1d226b00"
      },
      "execution_count": 17,
      "outputs": [
        {
          "output_type": "stream",
          "name": "stdout",
          "text": [
            "[49, 59, 55, 50] [2401, 3481, 3025, 2500] [39, 47, 37, 43, 47] [1521, 2209, 1369, 1849, 2209] 213 11407 9157\n"
          ]
        }
      ]
    },
    {
      "cell_type": "code",
      "source": [
        "RSS = 0\n",
        "for i in matrix:\n",
        "  for j in i:\n",
        "    RSS += j**2\n",
        "CF = G**2/(numberOfTreatments*numberOfBlocks)\n",
        "SST = RSS-CF\n",
        "SStr = (1/numberOfBlocks)*sigmaTi2 - CF\n",
        "SSb = (1/numberOfTreatments)*sigmaBi2 - CF\n",
        "SSe = SST - SStr - SSb"
      ],
      "metadata": {
        "id": "FSkwese62td2"
      },
      "execution_count": 27,
      "outputs": []
    },
    {
      "cell_type": "code",
      "source": [
        "print(\"RSS : {}\\nCF : {}\\nSST : {}\\nSStr : {}\\nSSb : {}\\nSSe : {}\".format(RSS,CF,SST,SStr,SSb,SSe))"
      ],
      "metadata": {
        "colab": {
          "base_uri": "https://localhost:8080/"
        },
        "id": "ahhFk9jU9WTG",
        "outputId": "14e17783-a41c-4e23-f27d-b888f5f7e85f"
      },
      "execution_count": 28,
      "outputs": [
        {
          "output_type": "stream",
          "name": "stdout",
          "text": [
            "RSS : 2383\n",
            "CF : 2268.45\n",
            "SST : 114.55000000000018\n",
            "SStr : 12.950000000000273\n",
            "SSb : 20.800000000000182\n",
            "SSe : 80.79999999999973\n"
          ]
        }
      ]
    },
    {
      "cell_type": "code",
      "source": [
        "degreeOfFreedomForTreatments = numberOfTreatments - 1\n",
        "degreeOfFreedomForBlocks = numberOfBlocks - 1\n",
        "degreeOfFreedomForErrors = degreeOfFreedomForTreatments*degreeOfFreedomForBlocks\n",
        "MSStr = SStr/degreeOfFreedomForTreatments\n",
        "MSSb = SSb/degreeOfFreedomForBlocks\n",
        "MSSe = SSe/degreeOfFreedomForErrors"
      ],
      "metadata": {
        "id": "cKpxVhxi4_95"
      },
      "execution_count": 29,
      "outputs": []
    },
    {
      "cell_type": "code",
      "source": [
        "print(\"degreeOfFreedomForTreatments : {}\\ndegreeOfFreedomForBlocks : {}\\ndegreeOfFreedomForErrors : {}\\nMSStr : {}\\nMSSb : {}\\nMSSe : {}\".format(degreeOfFreedomForTreatments,degreeOfFreedomForBlocks,degreeOfFreedomForErrors,MSStr,MSSb,MSSe))"
      ],
      "metadata": {
        "colab": {
          "base_uri": "https://localhost:8080/"
        },
        "id": "sx35IjDq-B2N",
        "outputId": "26903f1d-75d6-4374-bdfb-7bc672fd6306"
      },
      "execution_count": 30,
      "outputs": [
        {
          "output_type": "stream",
          "name": "stdout",
          "text": [
            "degreeOfFreedomForTreatments : 3\n",
            "degreeOfFreedomForBlocks : 4\n",
            "degreeOfFreedomForErrors : 12\n",
            "MSStr : 4.316666666666758\n",
            "MSSb : 5.2000000000000455\n",
            "MSSe : 6.73333333333331\n"
          ]
        }
      ]
    },
    {
      "cell_type": "code",
      "source": [
        "Ftr = MSStr/MSSe\n",
        "Fb = MSSb/MSSe\n",
        "print(\"========F Cal ===============\\nF value due to treatments : {}\\nF-value due to blocks : {}\".format(Ftr,Fb))"
      ],
      "metadata": {
        "colab": {
          "base_uri": "https://localhost:8080/"
        },
        "id": "6sQA_Lhl7AUH",
        "outputId": "1b6f9b49-c91b-4fc5-e75e-dc5e806b0cdd"
      },
      "execution_count": 31,
      "outputs": [
        {
          "output_type": "stream",
          "name": "stdout",
          "text": [
            "========F Cal ===============\n",
            "F value due to treatments : 0.6410891089109069\n",
            "F-value due to blocks : 0.7722772277227816\n"
          ]
        }
      ]
    },
    {
      "cell_type": "code",
      "source": [
        "Ftr_table = sci.f.ppf(1-los/100,degreeOfFreedomForTreatments,degreeOfFreedomForErrors)\n",
        "Fb_table = sci.f.ppf(1-los/100,degreeOfFreedomForBlocks,degreeOfFreedomForErrors)"
      ],
      "metadata": {
        "id": "XiRFVGmU7Sbi"
      },
      "execution_count": 22,
      "outputs": []
    },
    {
      "cell_type": "code",
      "source": [
        "print(\"========F Table ===============\\nF value due to treatments : {}\\nF-value due to blocks : {}\".format(Ftr_table,Fb_table))"
      ],
      "metadata": {
        "colab": {
          "base_uri": "https://localhost:8080/"
        },
        "id": "vmU8xX75_MH6",
        "outputId": "e3a43c1a-2b5c-4c07-dfb1-1de8fa6faf55"
      },
      "execution_count": 32,
      "outputs": [
        {
          "output_type": "stream",
          "name": "stdout",
          "text": [
            "========F Table ===============\n",
            "F value due to treatments : 5.952544681545868\n",
            "F-value due to blocks : 5.4119514344731385\n"
          ]
        }
      ]
    },
    {
      "cell_type": "code",
      "source": [
        "if Ftr >= Ftr_table:\n",
        "  print(\"Reject\")\n",
        "else:\n",
        "  print(\"Accept\")"
      ],
      "metadata": {
        "colab": {
          "base_uri": "https://localhost:8080/"
        },
        "id": "pJQl0cMz8kVw",
        "outputId": "e4d72302-acc1-41a3-c9f8-89b451accd58"
      },
      "execution_count": 33,
      "outputs": [
        {
          "output_type": "stream",
          "name": "stdout",
          "text": [
            "Accept\n"
          ]
        }
      ]
    },
    {
      "cell_type": "code",
      "source": [
        "if Fb >= Fb_table:\n",
        "  print(\"Reject\")\n",
        "else:\n",
        "  print(\"Accept\")"
      ],
      "metadata": {
        "colab": {
          "base_uri": "https://localhost:8080/"
        },
        "id": "8LxlMoYs81tt",
        "outputId": "06450ce6-0216-4545-e4ec-39837a26183e"
      },
      "execution_count": 34,
      "outputs": [
        {
          "output_type": "stream",
          "name": "stdout",
          "text": [
            "Accept\n"
          ]
        }
      ]
    }
  ]
}