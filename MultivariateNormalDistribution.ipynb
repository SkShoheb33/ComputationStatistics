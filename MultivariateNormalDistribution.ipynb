{
  "nbformat": 4,
  "nbformat_minor": 0,
  "metadata": {
    "colab": {
      "name": "Untitled19.ipynb",
      "provenance": [],
      "authorship_tag": "ABX9TyOlP0qZIYq1RAwdbueXqiw7",
      "include_colab_link": true
    },
    "kernelspec": {
      "name": "python3",
      "display_name": "Python 3"
    },
    "language_info": {
      "name": "python"
    }
  },
  "cells": [
    {
      "cell_type": "markdown",
      "metadata": {
        "id": "view-in-github",
        "colab_type": "text"
      },
      "source": [
        "<a href=\"https://colab.research.google.com/github/SkShoheb33/ComputationStatistics/blob/main/MultivariateNormalDistribution.ipynb\" target=\"_parent\"><img src=\"https://colab.research.google.com/assets/colab-badge.svg\" alt=\"Open In Colab\"/></a>"
      ]
    },
    {
      "cell_type": "code",
      "source": [
        "import numpy as np\n",
        "import math "
      ],
      "metadata": {
        "id": "PNQ8LTOnBn7r"
      },
      "execution_count": 15,
      "outputs": []
    },
    {
      "cell_type": "code",
      "execution_count": 20,
      "metadata": {
        "colab": {
          "base_uri": "https://localhost:8080/"
        },
        "id": "azRdHdWCAwR-",
        "outputId": "3651091b-d06f-4cd8-fd25-edac2b7a66f9"
      },
      "outputs": [
        {
          "name": "stdout",
          "output_type": "stream",
          "text": [
            "Enter number of variants : 2\n",
            "1\n",
            "3\n",
            "Enter the 1 row : \n",
            "2 -1.131\n",
            "Enter the 2 row : \n",
            "-1.131 1\n"
          ]
        }
      ],
      "source": [
        "n = int(input(\"Enter number of variants : \"))\n",
        "means = []\n",
        "for i in range(n):\n",
        "  means.append( int(input()))\n",
        "sigma = []\n",
        "for i in range(n):\n",
        "  print(\"Enter the {} row : \".format(i+1))\n",
        "  sigma.append( list(map(float,input().split())))      "
      ]
    },
    {
      "cell_type": "code",
      "source": [
        "sigma = np.array(sigma)\n",
        "sigma_det = np.linalg.det(sigma)\n",
        "sigma_inverse = np.linalg.inv(sigma)"
      ],
      "metadata": {
        "id": "DdrsF60GBgBs"
      },
      "execution_count": 21,
      "outputs": []
    },
    {
      "cell_type": "code",
      "source": [
        "a = sigma_inverse[0][0]\n",
        "b = sigma_inverse[1][0]\n",
        "c = sigma_inverse[1][1]\n",
        "squared_distance = \"{:.2f}x1^2 + {:.2f}x2^2 + {:.2f}x1 + {:.2f}x2 + {:.2f}x1x2 + {:.2f}\".format(a,c,2*a*means[0]-2*c*means[1],-2*b*means[0]-2*c*means[1],2*b,a*means[0]**2+c*means[1]**2+2*b*means[1]*means[0])\n",
        "print(squared_distance)"
      ],
      "metadata": {
        "colab": {
          "base_uri": "https://localhost:8080/"
        },
        "id": "XCS1IU1OD6PY",
        "outputId": "0dc5002d-8a27-4aad-8134-5730a7531f69"
      },
      "execution_count": 22,
      "outputs": [
        {
          "output_type": "stream",
          "name": "stdout",
          "text": [
            "1.39x1^2 + 2.77x2^2 + -13.87x1 + -19.79x2 + 3.14x1x2 + 35.77\n"
          ]
        }
      ]
    },
    {
      "cell_type": "code",
      "source": [
        "a= np.round(1/(2*math.pi*math.sqrt(sigma_det)),2)\n",
        "result = \"{} e ^ {}\".format(a,squared_distance)\n",
        "result"
      ],
      "metadata": {
        "colab": {
          "base_uri": "https://localhost:8080/",
          "height": 37
        },
        "id": "ZGTNcS9uLcuE",
        "outputId": "3290a148-c896-4d13-9d44-ea16670bad07"
      },
      "execution_count": 24,
      "outputs": [
        {
          "output_type": "execute_result",
          "data": {
            "text/plain": [
              "'0.19 e ^ 1.39x1^2 + 2.77x2^2 + -13.87x1 + -19.79x2 + 3.14x1x2 + 35.77'"
            ],
            "application/vnd.google.colaboratory.intrinsic+json": {
              "type": "string"
            }
          },
          "metadata": {},
          "execution_count": 24
        }
      ]
    }
  ]
}